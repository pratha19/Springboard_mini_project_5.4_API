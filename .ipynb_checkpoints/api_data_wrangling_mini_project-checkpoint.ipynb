{
 "cells": [
  {
   "cell_type": "markdown",
   "metadata": {},
   "source": [
    "This exercise will require you to pull some data from the Qunadl API. Qaundl is currently the most widely used aggregator of financial market data."
   ]
  },
  {
   "cell_type": "markdown",
   "metadata": {},
   "source": [
    "As a first step, you will need to register a free account on the http://www.quandl.com website."
   ]
  },
  {
   "cell_type": "markdown",
   "metadata": {},
   "source": [
    "After you register, you will be provided with a unique API key, that you should store:"
   ]
  },
  {
   "cell_type": "code",
   "execution_count": 1,
   "metadata": {},
   "outputs": [],
   "source": [
    "# Store the API key as a string - according to PEP8, constants are always named in all upper case\n",
    "API_KEY = ''"
   ]
  },
  {
   "cell_type": "markdown",
   "metadata": {},
   "source": [
    "Qaundl has a large number of data sources, but, unfortunately, most of them require a Premium subscription. Still, there are also a good number of free datasets."
   ]
  },
  {
   "cell_type": "markdown",
   "metadata": {},
   "source": [
    "For this mini project, we will focus on equities data from the Frankfurt Stock Exhange (FSE), which is available for free. We'll try and analyze the stock prices of a company called Carl Zeiss Meditec, which manufactures tools for eye examinations, as well as medical lasers for laser eye surgery: https://www.zeiss.com/meditec/int/home.html. The company is listed under the stock ticker AFX_X."
   ]
  },
  {
   "cell_type": "markdown",
   "metadata": {},
   "source": [
    "You can find the detailed Quandl API instructions here: https://docs.quandl.com/docs/time-series"
   ]
  },
  {
   "cell_type": "markdown",
   "metadata": {},
   "source": [
    "While there is a dedicated Python package for connecting to the Quandl API, we would prefer that you use the *requests* package, which can be easily downloaded using *pip* or *conda*. You can find the documentation for the package here: http://docs.python-requests.org/en/master/ "
   ]
  },
  {
   "cell_type": "markdown",
   "metadata": {},
   "source": [
    "Finally, apart from the *requests* package, you are encouraged to not use any third party Python packages, such as *pandas*, and instead focus on what's available in the Python Standard Library (the *collections* module might come in handy: https://pymotw.com/3/collections/ ).\n",
    "Also, since you won't have access to DataFrames, you are encouraged to us Python's native data structures - preferably dictionaries, though some questions can also be answered using lists.\n",
    "You can read more on these data structures here: https://docs.python.org/3/tutorial/datastructures.html"
   ]
  },
  {
   "cell_type": "markdown",
   "metadata": {},
   "source": [
    "Keep in mind that the JSON responses you will be getting from the API map almost one-to-one to Python's dictionaries. Unfortunately, they can be very nested, so make sure you read up on indexing dictionaries in the documentation provided above."
   ]
  },
  {
   "cell_type": "code",
   "execution_count": 2,
   "metadata": {},
   "outputs": [],
   "source": [
    "# First, import the relevant modules\n",
    "import requests\n",
    "import json\n"
   ]
  },
  {
   "cell_type": "code",
   "execution_count": 3,
   "metadata": {},
   "outputs": [],
   "source": [
    "# Now, call the Quandl API and pull out a small sample of the data (only one day) to get a glimpse\n",
    "# into the JSON structure that will be returned\n",
    "sd='2019-05-02' #start date\n",
    "ed='2019-05-04' #end date\n",
    "url='https://www.quandl.com/api/v3/datasets/FSE/AFX_X.json?start_date='+sd+'&end_date='+ed+'&api_key='+API_KEY\n",
    "r=requests.get(url)\n",
    "json_data=r.json()"
   ]
  },
  {
   "cell_type": "code",
   "execution_count": 4,
   "metadata": {},
   "outputs": [
    {
     "name": "stdout",
     "output_type": "stream",
     "text": [
      "[['2019-05-03', None, 87.5, 86.65, 87.2, None, 138284.0, 12036856.0, None, None, None], ['2019-05-02', None, 87.7, 85.45, 86.55, None, 216631.0, 18702265.0, None, None, None]]\n"
     ]
    }
   ],
   "source": [
    "# Inspect the JSON structure of the object you created, and take note of how nested it is,\n",
    "# as well as the overall structure\n",
    "print(json_data['dataset']['data'])"
   ]
  },
  {
   "cell_type": "code",
   "execution_count": null,
   "metadata": {},
   "outputs": [],
   "source": []
  },
  {
   "cell_type": "markdown",
   "metadata": {},
   "source": [
    "These are your tasks for this mini project:\n",
    "\n",
    "1. Collect data from the Franfurt Stock Exchange, for the ticker AFX_X, for the whole year 2017 (keep in mind that the date format is YYYY-MM-DD).\n",
    "2. Convert the returned JSON object into a Python dictionary.\n",
    "3. Calculate what the highest and lowest opening prices were for the stock in this period.\n",
    "4. What was the largest change in any one day (based on High and Low price)?\n",
    "5. What was the largest change between any two days (based on Closing Price)?\n",
    "6. What was the average daily trading volume during this year?\n",
    "7. (Optional) What was the median trading volume during this year. (Note: you may need to implement your own function for calculating the median.)"
   ]
  },
  {
   "cell_type": "markdown",
   "metadata": {
    "collapsed": true
   },
   "source": [
    "## 1. Collect data from the Franfurt Stock Exchange, for the ticker AFX_X, for the whole year 2017 (keep in mind that the date format is YYYY-MM-DD)."
   ]
  },
  {
   "cell_type": "code",
   "execution_count": 5,
   "metadata": {},
   "outputs": [],
   "source": [
    "#Importing data for AFX_X from 2017-01-01 to 2017-12-31 (ordered in ascending order) and assigning it to a url\n",
    "sd='2017-01-01' #start date\n",
    "ed='2017-12-31' #end date\n",
    "url_AFX='https://www.quandl.com/api/v3/datasets/FSE/AFX_X.json?start_date='+sd+'&end_date='+ed+'&order=asc&api_key='+API_KEY\n",
    "#url_AFX=\"https://www.quandl.com/api/v3/datasets/FSE/AFX_X.json?start_date=2017-01-01&end_date=2017-12-31&order=asc&api_key=\"+API_KEY\n"
   ]
  },
  {
   "cell_type": "markdown",
   "metadata": {},
   "source": [
    "## 2. Convert the returned JSON object into a Python dictionary."
   ]
  },
  {
   "cell_type": "code",
   "execution_count": 6,
   "metadata": {},
   "outputs": [],
   "source": [
    "#Package the request, send the request and catch the response: AFX\n",
    "AFX=requests.get(url_AFX)\n",
    "#Decode the JSON data into a dictionary: json_AFX\n",
    "json_AFX=AFX.json()\n",
    "#print json_AFX to get a sense of the data\n",
    "#print(json_AFX)"
   ]
  },
  {
   "cell_type": "markdown",
   "metadata": {},
   "source": [
    "## 3. Calculate what the highest and lowest opening prices were for the stock in this period.\n"
   ]
  },
  {
   "cell_type": "code",
   "execution_count": 7,
   "metadata": {},
   "outputs": [
    {
     "name": "stdout",
     "output_type": "stream",
     "text": [
      "['2017-01-02', 34.99, 35.94, 34.99, 35.8, None, 44700.0, 1590561.0, None, None, None]\n",
      "['2017-01-03', 35.9, 35.93, 35.34, 35.48, None, 70618.0, 2515473.0, None, None, None]\n",
      "['2017-01-04', 35.48, 35.51, 34.75, 35.19, None, 54408.0, 1906810.0, None, None, None]\n",
      "['2017-01-05', 35.02, 35.2, 34.73, 35.06, None, 48412.0, 1692326.0, None, None, None]\n",
      "['2017-01-06', 34.91, 35.21, 34.91, 35.04, None, 27507.0, 964046.0, None, None, None]\n"
     ]
    }
   ],
   "source": [
    "#Checking the data which contains the dates and other stock value information\n",
    "for items in json_AFX['dataset']['data'][:5]:\n",
    "    print(items)"
   ]
  },
  {
   "cell_type": "code",
   "execution_count": 8,
   "metadata": {},
   "outputs": [
    {
     "data": {
      "text/plain": [
       "['Date',\n",
       " 'Open',\n",
       " 'High',\n",
       " 'Low',\n",
       " 'Close',\n",
       " 'Change',\n",
       " 'Traded Volume',\n",
       " 'Turnover',\n",
       " 'Last Price of the Day',\n",
       " 'Daily Traded Units',\n",
       " 'Daily Turnover']"
      ]
     },
     "execution_count": 8,
     "metadata": {},
     "output_type": "execute_result"
    }
   ],
   "source": [
    "#Checking the column names for the data\n",
    "json_AFX['dataset']['column_names']"
   ]
  },
  {
   "cell_type": "markdown",
   "metadata": {},
   "source": [
    "#### Since the data and column names are in separate keys within the dictionary, lets bring them together into a single dictionary; for example lets create a dict where 'date' key contains all the dates, 'open' key contains all the open values and so on."
   ]
  },
  {
   "cell_type": "code",
   "execution_count": 9,
   "metadata": {},
   "outputs": [],
   "source": [
    "#Intitializing an empty dict and adding the keys from the json_AFX['dataset']['column_names'] and appending the values to the\n",
    "#appropriate keys using the values from json_AFX['dataset']['data'] "
   ]
  },
  {
   "cell_type": "code",
   "execution_count": 10,
   "metadata": {},
   "outputs": [],
   "source": [
    "AFX_dict={}\n",
    "for columns in json_AFX['dataset']['column_names']:\n",
    "     AFX_dict[columns]=[]\n",
    "for items in json_AFX['dataset']['data']:\n",
    "    for i in range(0,len(items)):\n",
    "        AFX_dict[list(AFX_dict.keys())[i]].append(items[i])    \n"
   ]
  },
  {
   "cell_type": "code",
   "execution_count": 11,
   "metadata": {},
   "outputs": [],
   "source": [
    "#Checking if the keys from json_AFX['dataset']['column_names'] have been transferred correctly to our AFX_dict\n",
    "assert json_AFX['dataset']['column_names']==list(AFX_dict.keys())"
   ]
  },
  {
   "cell_type": "markdown",
   "metadata": {},
   "source": [
    "#### Calculating the max and min of the Open values to answer the 3. question as stated above. On observing the data more closely it can be observed that several values in the dict contain None. So, to calculate the min and the max we need to avoid None. "
   ]
  },
  {
   "cell_type": "code",
   "execution_count": 12,
   "metadata": {},
   "outputs": [
    {
     "name": "stdout",
     "output_type": "stream",
     "text": [
      "The highest opening price for the stock in 2017 was: 53.11\n"
     ]
    }
   ],
   "source": [
    "print('The highest opening price for the stock in 2017 was: '+ str(max(x for x in AFX_dict['Open'] if x is not None)))"
   ]
  },
  {
   "cell_type": "code",
   "execution_count": 13,
   "metadata": {},
   "outputs": [
    {
     "name": "stdout",
     "output_type": "stream",
     "text": [
      "The lowest opening price for the stock in 2017 was: 34.0\n"
     ]
    }
   ],
   "source": [
    "print('The lowest opening price for the stock in 2017 was: '+ str(min(x for x in AFX_dict['Open'] if x is not None)))"
   ]
  },
  {
   "cell_type": "markdown",
   "metadata": {},
   "source": [
    "## 4. What was the largest change in any one day (based on High and Low price)? "
   ]
  },
  {
   "cell_type": "markdown",
   "metadata": {},
   "source": [
    "#### The largest change can be calculated by subtracting the low price from the high and taking the absolute value of the difference. Since both the high and low prices are stored under the AFX_dict keys 'High'  and 'Low' respectively, we can access them as lists and do the subtraction. "
   ]
  },
  {
   "cell_type": "code",
   "execution_count": 14,
   "metadata": {},
   "outputs": [
    {
     "name": "stdout",
     "output_type": "stream",
     "text": [
      "The largest change in any one day (based on High and Low price) for 2017 was: 2.81\n"
     ]
    }
   ],
   "source": [
    "#Using list comprehension and destructuring using zip\n",
    "print('The largest change in any one day (based on High and Low price) for 2017 was: '\\\n",
    "      +str(max([round(abs(high - low),2) for (high, low) in zip(AFX_dict['High'],AFX_dict['Low'] )])))"
   ]
  },
  {
   "cell_type": "markdown",
   "metadata": {},
   "source": [
    "## 5. What was the largest change between any two days (based on Closing Price)?"
   ]
  },
  {
   "cell_type": "markdown",
   "metadata": {},
   "source": [
    "#### The largest change between any two days, based on the closing price, can be calculated by subtracting the previous day's closing price from the present day's closing price. This can be done using list comprehension as done before for Q.4. "
   ]
  },
  {
   "cell_type": "code",
   "execution_count": 15,
   "metadata": {},
   "outputs": [
    {
     "name": "stdout",
     "output_type": "stream",
     "text": [
      "Largest change between any two days (based on Closing Price) is: 2.56\n"
     ]
    }
   ],
   "source": [
    "print('Largest change between any two days (based on Closing Price) is: ' + \\\n",
    "      str(round(max([abs(AFX_dict['Close'][i]-AFX_dict['Close'][i-1]) for i in range(1,len(AFX_dict['Close']))\\\n",
    "           if AFX_dict['Close'][i] is not None and AFX_dict['Close'][i-1] is not None ]),2)))"
   ]
  },
  {
   "cell_type": "markdown",
   "metadata": {},
   "source": [
    "## 6. What was the average daily trading volume during this year?"
   ]
  },
  {
   "cell_type": "code",
   "execution_count": 16,
   "metadata": {},
   "outputs": [],
   "source": [
    "#creating a list of the Traded volume values (which are not None) from AFX_dict['Traded Volume']\n",
    "trade_volume=[item for item in AFX_dict['Traded Volume'] if item!=None]"
   ]
  },
  {
   "cell_type": "code",
   "execution_count": 17,
   "metadata": {},
   "outputs": [
    {
     "name": "stdout",
     "output_type": "stream",
     "text": [
      "The average daily trading volume during 2017 was: 89124.34\n"
     ]
    }
   ],
   "source": [
    "#Calculating the mean trading volume during 2017 by dividing the sum of the trade volumes over te entire year by the\n",
    "#number of elements in the trade_volume list \n",
    "print('The average daily trading volume during 2017 was: '+\\\n",
    "     str(round(sum(trade_volume)/len(trade_volume),2)))"
   ]
  },
  {
   "cell_type": "markdown",
   "metadata": {},
   "source": [
    "## 7. (Optional) What was the median trading volume during this year. (Note: you may need to implement your own function for calculating the median.)"
   ]
  },
  {
   "cell_type": "code",
   "execution_count": 18,
   "metadata": {},
   "outputs": [],
   "source": [
    "def calc_median(L):\n",
    "    #The calc_median function takes in a list and returns the median of the list\n",
    "    ## Sorting the list \n",
    "    L=sorted(L)\n",
    "    if len(L)%2==0:\n",
    "        #if the length of the list is an even number then the median is the average of the center two elements of the list\n",
    "        med=(L[len(L)/2 - 1]+L[len(L)/2])/2\n",
    "    else:\n",
    "        #else if the length of the list is an odd numeber then the median is the center element in the list\n",
    "        med=L[len(L)//2]\n",
    "    return med\n",
    "    "
   ]
  },
  {
   "cell_type": "code",
   "execution_count": 19,
   "metadata": {},
   "outputs": [
    {
     "name": "stdout",
     "output_type": "stream",
     "text": [
      "The median trading volume during 2017 was: 76286.0\n"
     ]
    }
   ],
   "source": [
    "#Calling the function by giving as input the trade_volume list created earlier \n",
    "print('The median trading volume during 2017 was: '+str(calc_median(trade_volume)))"
   ]
  },
  {
   "cell_type": "code",
   "execution_count": null,
   "metadata": {},
   "outputs": [],
   "source": []
  }
 ],
 "metadata": {
  "kernelspec": {
   "display_name": "Python 3",
   "language": "python",
   "name": "python3"
  },
  "language_info": {
   "codemirror_mode": {
    "name": "ipython",
    "version": 3
   },
   "file_extension": ".py",
   "mimetype": "text/x-python",
   "name": "python",
   "nbconvert_exporter": "python",
   "pygments_lexer": "ipython3",
   "version": "3.6.5"
  }
 },
 "nbformat": 4,
 "nbformat_minor": 2
}
